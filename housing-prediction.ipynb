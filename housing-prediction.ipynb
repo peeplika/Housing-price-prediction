{
 "cells": [
  {
   "cell_type": "markdown",
   "id": "4cc06f6b-6916-4567-94bc-5e0cdd141c51",
   "metadata": {},
   "source": [
    "# HOUSING PRICE PRECDICTION"
   ]
  },
  {
   "cell_type": "markdown",
   "id": "b75713d8-5cb4-4446-b540-ebf3d317c983",
   "metadata": {},
   "source": [
    "## GET THE DATA"
   ]
  },
  {
   "cell_type": "code",
   "execution_count": null,
   "id": "60dc2e5d-8dcf-4def-b76f-e097e4cf1d64",
   "metadata": {},
   "outputs": [],
   "source": [
    "import os\n",
    "import tarfile\n",
    "from six.moves import urllib"
   ]
  },
  {
   "cell_type": "code",
   "execution_count": null,
   "id": "25425b58-d468-4bda-978a-f8f95c3dc9ca",
   "metadata": {},
   "outputs": [],
   "source": [
    "downloading_url =  \"https://raw.githubusercontent.com/ageron/handson-ml/master/\"\n",
    "housing_path = \"datasets/housing\"\n",
    "housing_url = downloading_url + housing_path + \"/housing.tgz\""
   ]
  },
  {
   "cell_type": "code",
   "execution_count": null,
   "id": "c1992080-1334-460d-a021-8381d7037438",
   "metadata": {},
   "outputs": [],
   "source": [
    "def fetch_data(housing_url, housing_path):\n",
    "    if not os.path.isdir(housing_path):\n",
    "        os.makedirs(housing_path)\n",
    "    tgz_path = os.path.join(housing_path + \"housing.tgz\")\n",
    "    urllib.request.urlretrieve(housing_url, tgz_path)\n",
    "    housing_tgz = tarfile.open(tgz_path)\n",
    "    housing_tgz.extractall(path = housing_path)\n",
    "    housing_tgz.close()\n",
    "fetch_data(housing_url, housing_path)"
   ]
  },
  {
   "cell_type": "code",
   "execution_count": null,
   "id": "f34820b8-391e-4813-86db-838c3d0f91ba",
   "metadata": {},
   "outputs": [],
   "source": [
    "import pandas as pd\n",
    "\n",
    "def load_data(housing_path = housing_path):\n",
    "    csv_path = os.path.join(housing_path, \"housing.csv\")\n",
    "    return pd.read_csv(csv_path)"
   ]
  },
  {
   "cell_type": "code",
   "execution_count": null,
   "id": "ad2d7927-7f5d-4bf5-96cd-dc24ab895db0",
   "metadata": {},
   "outputs": [],
   "source": [
    "data = load_data()\n",
    "data.head()"
   ]
  },
  {
   "cell_type": "code",
   "execution_count": null,
   "id": "9af48f45-231e-4f3b-a968-c23b4a8a9609",
   "metadata": {},
   "outputs": [],
   "source": [
    "data.info()"
   ]
  },
  {
   "cell_type": "code",
   "execution_count": null,
   "id": "79f5c872-2270-46d8-8d4c-64413447645f",
   "metadata": {},
   "outputs": [],
   "source": [
    "data[\"ocean_proximity\"].value_counts()"
   ]
  },
  {
   "cell_type": "code",
   "execution_count": null,
   "id": "96596af2-a153-400b-8d7b-f48423abee7c",
   "metadata": {},
   "outputs": [],
   "source": [
    "import matplotlib.pyplot as plt\n",
    "data.hist(bins=50, figsize=(20, 15))\n",
    "plt.show()"
   ]
  },
  {
   "cell_type": "markdown",
   "id": "703988f2-fafe-4480-bd37-4f8a5b498cc0",
   "metadata": {},
   "source": [
    "## SPLIT TRAIN - TEST DATASETS"
   ]
  },
  {
   "cell_type": "code",
   "execution_count": null,
   "id": "7826156d-5ac7-4401-9b3a-1aaf29a94521",
   "metadata": {},
   "outputs": [],
   "source": [
    "import numpy as np\n",
    "\n",
    "def traintestsplit(data, ratio):\n",
    "    shuffled_indices = np.random.permutation(len(data))\n",
    "    test_set_size = int(len(data)*ratio)\n",
    "    test_indices = shuffled_indices[:test_set_size]\n",
    "    train_indices = shuffled_indices[test_set_size:]\n",
    "    return data.iloc[train_indices], data.iloc[test_indices]"
   ]
  },
  {
   "cell_type": "code",
   "execution_count": null,
   "id": "05a41f15-ebde-43d1-8309-b7e068754127",
   "metadata": {},
   "outputs": [],
   "source": [
    "train_set, test_set = traintestsplit(data, 0.2)\n",
    "print(len(train_set), \":train , \", len(test_set), \":test\")"
   ]
  },
  {
   "cell_type": "code",
   "execution_count": null,
   "id": "493a9e82-bc73-4dc3-a13f-43de89145a2f",
   "metadata": {},
   "outputs": [],
   "source": [
    "import hashlib\n",
    "\n",
    "def test_check(id, ratio, hash):\n",
    "    return hash(np.int64(id)).digest()[-1] < 256 * ratio\n",
    "\n",
    "def split_train_test_by_id(data, ratio, id_col, hash=hashlib.md5):\n",
    "    id = data[id_col]\n",
    "    in_test_set = id.apply(lambda id_ : test_check(id_, ratio, hash))\n",
    "    return data.loc[~in_test_set], data.loc[in_test_set]"
   ]
  },
  {
   "cell_type": "code",
   "execution_count": null,
   "id": "eb12aab3-93c0-4011-8f74-4023b1c19c9b",
   "metadata": {},
   "outputs": [],
   "source": [
    "data_with_id = data.reset_index()\n",
    "train_set, test_set = split_train_test_by_id(data_with_id, 0.2, \"index\")\n",
    "print(len(train_set), \":train , \", len(test_set), \":test\")"
   ]
  },
  {
   "cell_type": "code",
   "execution_count": null,
   "id": "610c96e9-7ce0-4dd6-8925-7a0e5b3947dd",
   "metadata": {},
   "outputs": [],
   "source": [
    "data[\"income\"] = np.ceil(data[\"median_income\"] / 1.5)\n",
    "data['income'].where(data['income'] < 5, 5.0, inplace = True)"
   ]
  },
  {
   "cell_type": "code",
   "execution_count": null,
   "id": "5e47a8b5-28d8-4550-943f-135e630f7ff2",
   "metadata": {},
   "outputs": [],
   "source": [
    "from sklearn.model_selection import StratifiedShuffleSplit\n",
    "\n",
    "split = StratifiedShuffleSplit(n_splits = 1, test_size = 0.2, random_state=42)\n",
    "for train_index, test_index in split.split(data, data[\"income\"]):\n",
    "    strat_train_index = data.loc[train_index]\n",
    "    strat_test_index = data.loc[test_index]"
   ]
  },
  {
   "cell_type": "code",
   "execution_count": null,
   "id": "be5d93cb-b003-45d5-8e94-dda094e46248",
   "metadata": {},
   "outputs": [],
   "source": [
    "data['income'].value_counts() / len(data)"
   ]
  },
  {
   "cell_type": "code",
   "execution_count": null,
   "id": "fcf7e367-6730-4135-905f-79481f2609fb",
   "metadata": {},
   "outputs": [],
   "source": [
    "for set in (strat_train_index, strat_test_index):\n",
    "    set.drop([\"income\"], axis =1, inplace=True)\n",
    "    "
   ]
  },
  {
   "cell_type": "markdown",
   "id": "c3bd508b-1073-4638-a3f2-f825571d422b",
   "metadata": {},
   "source": [
    "## VISUALIZE THE DATA"
   ]
  },
  {
   "cell_type": "code",
   "execution_count": null,
   "id": "5cbf316e-1b59-4c04-a1ad-a319fbe22284",
   "metadata": {},
   "outputs": [],
   "source": [
    "data = strat_train_index.copy()"
   ]
  },
  {
   "cell_type": "code",
   "execution_count": null,
   "id": "c24e7683-a3b4-45ca-a5eb-ef168f2b92c5",
   "metadata": {},
   "outputs": [],
   "source": [
    "data.plot(kind=\"scatter\", x = \"latitude\", y= \"longitude\")"
   ]
  },
  {
   "cell_type": "code",
   "execution_count": null,
   "id": "32327603-56f5-42dc-a7b2-b7a9d2ef47b4",
   "metadata": {},
   "outputs": [],
   "source": [
    "data.plot(kind=\"scatter\", x = \"latitude\", y= \"longitude\", alpha = 0.1)"
   ]
  },
  {
   "cell_type": "code",
   "execution_count": null,
   "id": "aabdf09a-3055-475a-8e40-ef6bed1b0f8b",
   "metadata": {},
   "outputs": [],
   "source": [
    "data.plot(kind=\"scatter\", x = \"latitude\", y= \"longitude\", alpha = 0.4,\n",
    "         s = data[\"population\"]/ 100, label = \"population\",\n",
    "         c = \"median_house_value\", cmap= plt.get_cmap(\"jet\"), colorbar = True)\n",
    "\n",
    "plt.legend()"
   ]
  },
  {
   "cell_type": "code",
   "execution_count": null,
   "id": "7ba0f818-cbca-4e1c-bdbd-c390329b61aa",
   "metadata": {},
   "outputs": [],
   "source": [
    "from pandas.plotting import scatter_matrix\n",
    "attributes = [\"median_house_value\", \"median_income\", \"total_rooms\", \"housing_median_age\"]\n",
    "scatter_matrix(data[attributes], figsize=(12, 8))"
   ]
  },
  {
   "cell_type": "code",
   "execution_count": null,
   "id": "8a97f68a-5ce6-442e-813a-15f851082d88",
   "metadata": {},
   "outputs": [],
   "source": [
    "data.plot(kind=\"scatter\", x = \"median_income\", y = \"median_house_value\", alpha =0.1)"
   ]
  },
  {
   "cell_type": "markdown",
   "id": "a7d8f1d7-32a9-4e7a-9454-68357460ca6e",
   "metadata": {},
   "source": [
    "## ADDING NEW FEATURES"
   ]
  },
  {
   "cell_type": "code",
   "execution_count": null,
   "id": "e2ad0286-a30a-447c-979a-ee583fefae98",
   "metadata": {},
   "outputs": [],
   "source": [
    "data[\"rooms_per_household\"] = data[\"total_rooms\"] / data[\"households\"]\n",
    "data[\"bedrooms_per_room\"] = data[\"total_bedrooms\"] / data[\"total_rooms\"]\n",
    "data[\"population_per_household\"] = data[\"population\"] / data[\"households\"]"
   ]
  },
  {
   "cell_type": "code",
   "execution_count": null,
   "id": "2af8dbc6-723e-4eaa-bee0-f2592e19d00d",
   "metadata": {},
   "outputs": [],
   "source": [
    "housing = strat_train_index.drop(\"median_house_value\", axis = 1)\n",
    "housing_labels = strat_train_index[\"median_house_value\"].copy()"
   ]
  },
  {
   "cell_type": "markdown",
   "id": "1f38ccfd-e9e8-40ab-a96a-d9d43356caed",
   "metadata": {},
   "source": [
    "## HANDLE MISSING VALUES"
   ]
  },
  {
   "cell_type": "code",
   "execution_count": null,
   "id": "3e1864bb-02b2-4936-9201-d00daf014c65",
   "metadata": {},
   "outputs": [],
   "source": [
    "from sklearn.impute import SimpleImputer\n",
    "\n",
    "# Create an instance of SimpleImputer with the median strategy\n",
    "imputer = SimpleImputer(strategy=\"median\")\n",
    "\n",
    "# Apply the imputer to your dataset\n",
    "housing_num = housing.drop(\"ocean_proximity\", axis=1)\n",
    "imputed_data = imputer.fit_transform(housing_num)\n"
   ]
  },
  {
   "cell_type": "code",
   "execution_count": null,
   "id": "5bf0d9e8-b1d9-4275-920e-91fea749c9e1",
   "metadata": {},
   "outputs": [],
   "source": [
    "imputer.statistics_"
   ]
  },
  {
   "cell_type": "code",
   "execution_count": null,
   "id": "f3802f27-e8b0-4bbc-b16b-0a58188172da",
   "metadata": {},
   "outputs": [],
   "source": [
    "housing_num.median().values"
   ]
  },
  {
   "cell_type": "code",
   "execution_count": null,
   "id": "3ed27ce8-8758-48ff-8b16-d75210277d8b",
   "metadata": {},
   "outputs": [],
   "source": [
    "x = imputer.transform(housing_num)"
   ]
  },
  {
   "cell_type": "code",
   "execution_count": null,
   "id": "f683ace7-4643-421d-b536-9b517078bf22",
   "metadata": {},
   "outputs": [],
   "source": [
    "housing_tr = pd.DataFrame(x, columns = housing_num.columns)"
   ]
  },
  {
   "cell_type": "markdown",
   "id": "a97f7bf5-d4d3-432f-b611-f175155612db",
   "metadata": {},
   "source": [
    "## HANDLE CATEGORICAL FEATURES"
   ]
  },
  {
   "cell_type": "code",
   "execution_count": null,
   "id": "830e4b19-0711-459d-ac7a-95a2e38db68f",
   "metadata": {},
   "outputs": [],
   "source": [
    "from sklearn.preprocessing import LabelEncoder\n",
    "encoder = LabelEncoder()\n",
    "housing_cat = housing[\"ocean_proximity\"]\n",
    "housing_cat_encoded = encoder.fit_transform(housing_cat)\n",
    "housing_cat_encoded"
   ]
  },
  {
   "cell_type": "code",
   "execution_count": null,
   "id": "0c315565-ac07-44e0-9df4-53856df741dc",
   "metadata": {},
   "outputs": [],
   "source": [
    "from sklearn.preprocessing import OneHotEncoder\n",
    "encoder = OneHotEncoder()\n",
    "housing_cat_1hot = encoder.fit_transform(housing_cat_encoded.reshape(-1, 1))\n",
    "housing_cat_1hot"
   ]
  },
  {
   "cell_type": "code",
   "execution_count": null,
   "id": "24607acf-93e1-4bc2-bc56-f21a924d4e41",
   "metadata": {},
   "outputs": [],
   "source": [
    "from sklearn.preprocessing import LabelBinarizer\n",
    "encoder = LabelBinarizer()\n",
    "housing_cat1hot = encoder.fit_transform(housing_cat)\n",
    "housing_cat1hot\n"
   ]
  },
  {
   "cell_type": "markdown",
   "id": "d2589a52-3bf7-4b1d-98b4-bdfd1ff98176",
   "metadata": {},
   "source": [
    "## CUSTOM TRANSFORMER"
   ]
  },
  {
   "cell_type": "code",
   "execution_count": null,
   "id": "7b1a310c-ce7f-4f9e-b448-52d011701d7b",
   "metadata": {},
   "outputs": [],
   "source": [
    "from sklearn.base import BaseEstimator, TransformerMixin\n",
    "rooms_ix, bedrooms_ix, population_ix, households_ix = 3,4,5,6\n",
    "\n",
    "class CombinedAttributesAdder(BaseEstimator, TransformerMixin):\n",
    "    def __init__(self, add_bedrooms_per_room= True):\n",
    "        self.add_bedrooms_per_room = add_bedrooms_per_room\n",
    "    def fit(self, X, y=None):\n",
    "        return self\n",
    "    def transform(self, X, y=None):\n",
    "        rooms_per_household = X[: ,rooms_ix] / X[: ,households_ix]\n",
    "        population_per_household = X[:, population_ix] / X[:, households_ix]\n",
    "        if self.add_bedrooms_per_room:\n",
    "            bedrooms_per_room = X[:, bedrooms_ix] / X[:, rooms_ix]\n",
    "            return np.c_[X, rooms_per_household, \\\n",
    "                          population_per_household, bedrooms_per_room]\n",
    "        else:\n",
    "            return np.c_[X, rooms_per_household, \\\n",
    "                          population_per_household ]\n",
    "            "
   ]
  },
  {
   "cell_type": "code",
   "execution_count": null,
   "id": "1c8e6d70-008c-4452-907c-f47c3494e81f",
   "metadata": {},
   "outputs": [],
   "source": [
    "attr_adder = CombinedAttributesAdder(add_bedrooms_per_room = False)\n",
    "housing_extra_attribs = attr_adder.transform(housing.values)"
   ]
  },
  {
   "cell_type": "markdown",
   "id": "47e51fc2-7ef8-479d-812f-9366fd7c6490",
   "metadata": {},
   "source": [
    "## MAKING PIPELINE"
   ]
  },
  {
   "cell_type": "code",
   "execution_count": null,
   "id": "9b2fa841-7b10-4061-b8de-2f2603236167",
   "metadata": {},
   "outputs": [],
   "source": [
    "from sklearn.pipeline import Pipeline\n",
    "from sklearn.preprocessing import StandardScaler\n",
    "\n",
    "num_pipeline = Pipeline([\n",
    "    (\"imputer\", SimpleImputer(strategy= \"median\")),\n",
    "    (\"attr_adder\", CombinedAttributesAdder()),\n",
    "    (\"std_sclr\", StandardScaler()),\n",
    "])\n",
    "\n",
    "housing_num_tr = num_pipeline.fit_transform(housing_num)"
   ]
  },
  {
   "cell_type": "code",
   "execution_count": null,
   "id": "9739f5a4-9241-4b7a-862f-156432ddf46a",
   "metadata": {},
   "outputs": [],
   "source": [
    "class DataFrameSelector(BaseEstimator, TransformerMixin):\n",
    "    def __init__(self, attributes_name):\n",
    "        self.attributes_name = attributes_name\n",
    "    def fit(self, X, y=None):\n",
    "        return self\n",
    "    def transform(self, X):\n",
    "        return X[self.attributes_name].values"
   ]
  },
  {
   "cell_type": "code",
   "execution_count": null,
   "id": "ab213cfe-b82e-40ae-b63a-48d70fdb5f17",
   "metadata": {},
   "outputs": [],
   "source": [
    "from sklearn.pipeline import FeatureUnion\n",
    "\n",
    "num_attribs = list(housing_num)\n",
    "cat_attribs = [\"ocean_proximity\"]\n",
    "\n",
    "num_pipeline = Pipeline([\n",
    "    (\"selector\", DataFrameSelector(num_attribs)),\n",
    "    (\"imputer\", SimpleImputer(strategy= \"median\")),\n",
    "    (\"attr_adder\", CombinedAttributesAdder()),\n",
    "    (\"std_sclr\", StandardScaler()),\n",
    "])\n",
    "\n",
    "cat_pipeline = Pipeline([\n",
    "    (\"selector\", DataFrameSelector(cat_attribs)),\n",
    "    (\"label_binarizer\", OneHotEncoder()),\n",
    "])\n",
    "\n",
    "full_pipeline = FeatureUnion(transformer_list = [\n",
    "    (\"num_pipeline\", num_pipeline),\n",
    "    (\"cat_pipeline\", cat_pipeline)\n",
    "])"
   ]
  },
  {
   "cell_type": "code",
   "execution_count": null,
   "id": "ad2dc7ec-8a2a-4a73-945a-d907aa5fa1f5",
   "metadata": {},
   "outputs": [],
   "source": [
    "housing_prepared = full_pipeline.fit_transform(housing)"
   ]
  },
  {
   "cell_type": "markdown",
   "id": "d7f61af4-0c64-45de-8f81-fb21c5bb3222",
   "metadata": {},
   "source": [
    "## TRYING DIFFERENT MODELS"
   ]
  },
  {
   "cell_type": "code",
   "execution_count": null,
   "id": "9fb86eac-5f9f-4a71-8737-2b25cceaf0e3",
   "metadata": {},
   "outputs": [],
   "source": [
    "from sklearn.linear_model import LinearRegression\n",
    "\n",
    "lin_reg = LinearRegression()\n",
    "lin_reg.fit(housing_prepared, housing_labels)\n"
   ]
  },
  {
   "cell_type": "code",
   "execution_count": null,
   "id": "bf9e3f95-1ff4-46fc-ae5c-bf63f8e5530c",
   "metadata": {},
   "outputs": [],
   "source": [
    "some_data = housing.iloc[:5]\n",
    "some_labels = housing_labels.iloc[:5]\n",
    "some_data_prepared = full_pipeline.transform(some_data)\n",
    "print(\"prediction ------>\", lin_reg.predict(some_data_prepared))\n",
    "print(\"actual ------>\",  list(some_labels))"
   ]
  },
  {
   "cell_type": "code",
   "execution_count": null,
   "id": "2557e60c-11de-4845-a799-f24e4c8d3440",
   "metadata": {},
   "outputs": [],
   "source": [
    "from sklearn.metrics import mean_squared_error\n",
    "housing_predictions = lin_reg.predict(housing_prepared)\n",
    "lin_mse = mean_squared_error(housing_labels, housing_predictions)\n",
    "lin_rmse = np.sqrt(lin_mse)\n",
    "lin_rmse"
   ]
  },
  {
   "cell_type": "code",
   "execution_count": null,
   "id": "5427b694-5939-44c0-97c4-5163730d6546",
   "metadata": {},
   "outputs": [],
   "source": [
    "from sklearn.tree import DecisionTreeRegressor\n",
    "\n",
    "tree_reg = DecisionTreeRegressor()\n",
    "tree_reg.fit(housing_prepared, housing_labels)"
   ]
  },
  {
   "cell_type": "code",
   "execution_count": null,
   "id": "85c45880-336c-4fb6-bbb6-066c9ef44567",
   "metadata": {},
   "outputs": [],
   "source": [
    "housing_predictions = tree_reg.predict(housing_prepared)\n",
    "tree_mse = mean_squared_error(housing_labels, housing_predictions)\n",
    "tree_rmse = np.sqrt(tree_mse)\n",
    "tree_rmse"
   ]
  },
  {
   "cell_type": "code",
   "execution_count": null,
   "id": "793fb3e8-14db-4e64-9d36-c6963206adf2",
   "metadata": {},
   "outputs": [],
   "source": [
    "from sklearn.model_selection import cross_val_score\n",
    "scores = cross_val_score(tree_reg, housing_prepared, housing_labels,\n",
    "                         scoring=\"neg_mean_squared_error\", cv=10)\n",
    "rmse_scores = np.sqrt(-scores)\n",
    "rmse_scores"
   ]
  },
  {
   "cell_type": "code",
   "execution_count": null,
   "id": "2b783c11-1120-4ca0-bae2-f65f9293f5d7",
   "metadata": {},
   "outputs": [],
   "source": [
    "def display_scores(scores):\n",
    "    print(scores)\n",
    "    print(\"mean: \", scores.mean())\n",
    "    print(\"std deviation: \", scores.std())"
   ]
  },
  {
   "cell_type": "code",
   "execution_count": null,
   "id": "a32109b4-9273-450c-af21-03e8c0c35f2c",
   "metadata": {},
   "outputs": [],
   "source": [
    "display_scores(scores)"
   ]
  },
  {
   "cell_type": "code",
   "execution_count": null,
   "id": "972d33c7-b53d-4e0b-ab9c-c0deb9cb4bae",
   "metadata": {},
   "outputs": [],
   "source": [
    "lin_score = cross_val_score(lin_reg, housing_prepared, housing_labels,\n",
    "                                   scoring=\"neg_mean_squared_error\", cv=10)\n",
    "lin_score = np.sqrt(-lin_score)"
   ]
  },
  {
   "cell_type": "code",
   "execution_count": null,
   "id": "cc08857a-86a2-4705-9584-feefe93c89b2",
   "metadata": {},
   "outputs": [],
   "source": [
    "display_scores(lin_score)\n"
   ]
  },
  {
   "cell_type": "code",
   "execution_count": null,
   "id": "62df8d6d-5fdd-4e53-86cf-840cab0c71b0",
   "metadata": {},
   "outputs": [],
   "source": [
    "from sklearn.ensemble import RandomForestRegressor\n",
    "\n",
    "rf_reg = RandomForestRegressor()\n",
    "rf_reg.fit(housing_prepared, housing_labels)\n"
   ]
  },
  {
   "cell_type": "code",
   "execution_count": null,
   "id": "71ac8387-e9c3-4460-9d6a-74328b935085",
   "metadata": {},
   "outputs": [],
   "source": [
    "rf_score = cross_val_score(rf_reg, housing_prepared, housing_labels,\n",
    "                           scoring=\"neg_mean_squared_error\", cv=10)\n",
    "rf_score = np.sqrt(-rf_score)\n"
   ]
  },
  {
   "cell_type": "code",
   "execution_count": null,
   "id": "b8feec08-a785-457c-b8c5-919b897d16a7",
   "metadata": {},
   "outputs": [],
   "source": [
    "display_scores(rf_score)"
   ]
  },
  {
   "cell_type": "markdown",
   "id": "037673c4-dfcb-4e61-956b-a5fdd4b99813",
   "metadata": {},
   "source": [
    "## SAVING MODEL"
   ]
  },
  {
   "cell_type": "code",
   "execution_count": null,
   "id": "047b17ad-6ecc-424b-a701-85343f0668fb",
   "metadata": {},
   "outputs": [],
   "source": [
    "import joblib\n",
    "joblib.dump(tree_reg, \"tree_reg.pkl\")"
   ]
  },
  {
   "cell_type": "markdown",
   "id": "0c0b1372-0549-4f04-bef2-906255fd5bc5",
   "metadata": {},
   "source": [
    "## FINE-TUNING"
   ]
  },
  {
   "cell_type": "code",
   "execution_count": null,
   "id": "1998f2c3-2668-4c51-bb30-eefed22dce5c",
   "metadata": {},
   "outputs": [],
   "source": [
    "from sklearn.model_selection import GridSearchCV\n",
    "\n",
    "param_grid = [\n",
    "    {\"n_estimators\":[3, 10, 30], \"max_features\":[2, 4, 6, 8]},\n",
    "    {\"bootstrap\":[False], \"n_estimators\":[3, 10], \"max_features\":[2, 3, 4]}\n",
    "]\n",
    "forest_reg = RandomForestRegressor()\n",
    "grid_search = GridSearchCV(forest_reg, param_grid, cv=5, scoring=\"neg_mean_squared_error\")\n",
    "grid_search.fit(housing_prepared, housing_labels)"
   ]
  },
  {
   "cell_type": "code",
   "execution_count": null,
   "id": "5b0fdfeb-c572-410c-9115-a5e5b0e85ff3",
   "metadata": {},
   "outputs": [],
   "source": [
    "grid_search.best_params_"
   ]
  },
  {
   "cell_type": "code",
   "execution_count": null,
   "id": "64cd550c-9709-4389-a13e-b4ae84ed9982",
   "metadata": {},
   "outputs": [],
   "source": [
    "grid_search.best_estimator_"
   ]
  },
  {
   "cell_type": "code",
   "execution_count": null,
   "id": "e35ee501-fc6b-4542-8e15-24f93486f92c",
   "metadata": {},
   "outputs": [],
   "source": [
    "cvres = grid_search.cv_results_\n",
    "for scores, params in zip(cvres[\"mean_test_score\"], cvres[\"params\"]):\n",
    "    print(np.sqrt(-scores), params)"
   ]
  },
  {
   "cell_type": "code",
   "execution_count": null,
   "id": "700ddcb5-5a1f-4985-ada8-35590f2c09ac",
   "metadata": {},
   "outputs": [],
   "source": [
    "feature_importance = grid_search.best_estimator_.feature_importances_\n",
    "feature_importance"
   ]
  },
  {
   "cell_type": "code",
   "execution_count": null,
   "id": "37c984d2-56b9-406d-b7f8-c0d106c4cab1",
   "metadata": {},
   "outputs": [],
   "source": [
    "extra_features = [\"rooms_per_household\", \"population_per_household\", \"bedrooms_per_room\"]\n",
    "cat_one_hot_attribs = list(encoder.classes_)\n",
    "attribs = num_attribs + extra_features + cat_one_hot_attribs\n",
    "sorted(zip(feature_importance, attribs), reverse=True)"
   ]
  },
  {
   "cell_type": "markdown",
   "id": "92211bd1-eaf4-44fe-b944-ef7f7ac799ae",
   "metadata": {},
   "source": [
    "## TESTING THE FINAL MODEL"
   ]
  },
  {
   "cell_type": "code",
   "execution_count": null,
   "id": "d40ce4b9-f27b-4586-999e-9d27c657028b",
   "metadata": {},
   "outputs": [],
   "source": [
    "final_model = grid_search.best_estimator_\n",
    "test_x = strat_test_index.drop([\"median_house_value\"], axis=1)\n",
    "test_y = strat_test_index[\"median_house_value\"].copy()\n",
    "\n",
    "test_x_prepared = full_pipeline.transform(test_x)"
   ]
  },
  {
   "cell_type": "code",
   "execution_count": null,
   "id": "74d5e111-5be8-43b6-9a3f-a16930d91de0",
   "metadata": {},
   "outputs": [],
   "source": [
    "final_prediction = final_model.predict(test_x_prepared)\n",
    "final_mse = mean_squared_error(test_y, final_prediction)\n",
    "final_rmse = np.sqrt(final_mse)\n",
    "final_rmse"
   ]
  },
  {
   "cell_type": "code",
   "execution_count": null,
   "id": "3cad32e5-4ded-4b90-a4a0-9b949a337ceb",
   "metadata": {},
   "outputs": [],
   "source": []
  }
 ],
 "metadata": {
  "kernelspec": {
   "display_name": "Python 3 (ipykernel)",
   "language": "python",
   "name": "python3"
  },
  "language_info": {
   "codemirror_mode": {
    "name": "ipython",
    "version": 3
   },
   "file_extension": ".py",
   "mimetype": "text/x-python",
   "name": "python",
   "nbconvert_exporter": "python",
   "pygments_lexer": "ipython3",
   "version": "3.11.7"
  }
 },
 "nbformat": 4,
 "nbformat_minor": 5
}
